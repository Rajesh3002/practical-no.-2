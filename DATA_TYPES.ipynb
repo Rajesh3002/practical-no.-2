{
  "nbformat": 4,
  "nbformat_minor": 0,
  "metadata": {
    "colab": {
      "name": "DATA TYPES.ipynb",
      "provenance": [],
      "toc_visible": true
    },
    "kernelspec": {
      "name": "python3",
      "display_name": "Python 3"
    },
    "language_info": {
      "name": "python"
    }
  },
  "cells": [
    {
      "cell_type": "markdown",
      "source": [
        "2] Program to demonstrate different number data types in python "
      ],
      "metadata": {
        "id": "sgkRV_lsiKDh"
      }
    },
    {
      "cell_type": "code",
      "execution_count": 5,
      "metadata": {
        "colab": {
          "base_uri": "https://localhost:8080/"
        },
        "id": "QuG3CJtTiFHP",
        "outputId": "f8bdf811-4c43-4f2e-a48d-3279b2012996"
      },
      "outputs": [
        {
          "output_type": "stream",
          "name": "stdout",
          "text": [
            "WELCOME TO THE FUTURE\n",
            "{'PROGRAM': 'PYTHON', 'FOUND': 1991}\n",
            "['BMW', 'LEMBORGHINI', 'TESLA']\n",
            "{'3', '4', '1', '2'}\n",
            "9j\n",
            "90\n",
            "19.04\n",
            "('PYTHON', 'JAVA', 'C++')\n",
            "<class 'list'>\n",
            "<class 'dict'>\n",
            "<class 'set'>\n",
            "<class 'str'>\n",
            "<class 'complex'>\n",
            "<class 'int'>\n",
            "<class 'float'>\n",
            "<class 'tuple'>\n"
          ]
        }
      ],
      "source": [
        "A = [\"BMW\", \"LEMBORGHINI\", \"TESLA\"]\n",
        "B = {\"PROGRAM\" : \"PYTHON\", \"FOUND\" : 1991}\n",
        "C = {\"1\", \"2\", \"3\", \"4\"}\n",
        "D = \"WELCOME TO THE FUTURE\"\n",
        "E = 9J\n",
        "F = 90\n",
        "G = 19.04\n",
        "H = (\"PYTHON\", \"JAVA\", \"C++\")\n",
        "\n",
        "#display A:\n",
        "print(D)\n",
        "print(B)\n",
        "print(A)\n",
        "print(C)\n",
        "print(E)\n",
        "print(F)\n",
        "print(G)\n",
        "print(H)\n",
        "\n",
        "#display the data type of x:\n",
        "print(type(A)) \n",
        "print(type(B)) \n",
        "print(type(C))\n",
        "print(type(D)) \n",
        "print(type(E)) \n",
        "print(type(F)) \n",
        "print(type(G)) \n",
        "print(type(H)) \n",
        "\n",
        "\n"
      ]
    }
  ]
}